{
 "cells": [
  {
   "cell_type": "code",
   "execution_count": 1,
   "metadata": {},
   "outputs": [],
   "source": [
    "import numpy as np\n",
    "from matplotlib import pyplot as plt"
   ]
  },
  {
   "cell_type": "code",
   "execution_count": 2,
   "metadata": {},
   "outputs": [],
   "source": [
    "from functools import reduce"
   ]
  },
  {
   "cell_type": "code",
   "execution_count": 3,
   "metadata": {},
   "outputs": [],
   "source": [
    "import h5py"
   ]
  },
  {
   "cell_type": "code",
   "execution_count": 4,
   "metadata": {},
   "outputs": [],
   "source": [
    "from sklearn.neighbors import KNeighborsClassifier\n",
    "from sklearn.metrics import accuracy_score\n",
    "from sklearn.metrics import confusion_matrix"
   ]
  },
  {
   "cell_type": "code",
   "execution_count": 5,
   "metadata": {},
   "outputs": [],
   "source": [
    "path = 'E:/KNN/usps.h5'\n",
    "\n",
    "\n",
    "with h5py.File(path, 'r') as hf:\n",
    "        train = hf.get('train')\n",
    "        X_tr = train.get('data')[:]\n",
    "        y_tr = train.get('target')[:]\n",
    "        test = hf.get('test')\n",
    "        X_te = test.get('data')[:]\n",
    "        y_te = test.get('target')[:]"
   ]
  },
  {
   "cell_type": "code",
   "execution_count": 6,
   "metadata": {},
   "outputs": [
    {
     "data": {
      "text/plain": [
       "array([0.        , 0.        , 0.        , 0.        , 0.        ,\n",
       "       0.        , 0.        , 0.18450001, 0.931     , 0.4165    ,\n",
       "       0.        , 0.        , 0.        , 0.        , 0.        ,\n",
       "       0.        , 0.        , 0.        , 0.        , 0.        ,\n",
       "       0.        , 0.        , 0.00400001, 0.64849997, 1.        ,\n",
       "       0.6535    , 0.        , 0.        , 0.        , 0.        ,\n",
       "       0.        , 0.        , 0.        , 0.        , 0.        ,\n",
       "       0.        , 0.        , 0.        , 0.29500002, 1.        ,\n",
       "       0.99300003, 0.2175    , 0.        , 0.        , 0.        ,\n",
       "       0.        , 0.        , 0.        , 0.        , 0.        ,\n",
       "       0.        , 0.        , 0.        , 0.15849999, 0.9125    ,\n",
       "       1.        , 0.781     , 0.        , 0.        , 0.        ,\n",
       "       0.        , 0.        , 0.        , 0.        , 0.        ,\n",
       "       0.        , 0.        , 0.        , 0.03099999, 0.77      ,\n",
       "       1.        , 0.889     , 0.14250001, 0.        , 0.        ,\n",
       "       0.        , 0.        , 0.        , 0.        , 0.        ,\n",
       "       0.        , 0.        , 0.        , 0.        , 0.55      ,\n",
       "       1.        , 0.96099997, 0.2805    , 0.        , 0.        ,\n",
       "       0.        , 0.        , 0.        , 0.        , 0.        ,\n",
       "       0.        , 0.        , 0.        , 0.        , 0.37150002,\n",
       "       0.975     , 1.        , 0.419     , 0.        , 0.        ,\n",
       "       0.        , 0.00650001, 0.143     , 0.08399999, 0.        ,\n",
       "       0.        , 0.        , 0.        , 0.        , 0.1015    ,\n",
       "       0.95449996, 1.        , 0.65      , 0.01949999, 0.        ,\n",
       "       0.        , 0.225     , 0.7425    , 0.998     , 0.9335    ,\n",
       "       0.546     , 0.        , 0.        , 0.        , 0.        ,\n",
       "       0.639     , 1.        , 0.9385    , 0.088     , 0.        ,\n",
       "       0.04750001, 0.5725    , 0.9885    , 1.        , 1.        ,\n",
       "       1.        , 0.995     , 0.1275    , 0.        , 0.        ,\n",
       "       0.02500001, 0.9235    , 1.        , 0.6635    , 0.        ,\n",
       "       0.        , 0.6775    , 1.        , 0.8275    , 0.44550002,\n",
       "       0.4075    , 1.        , 0.99399996, 0.1385    , 0.        ,\n",
       "       0.        , 0.185     , 1.        , 1.        , 0.534     ,\n",
       "       0.03749999, 0.5565    , 0.98      , 0.654     , 0.058     ,\n",
       "       0.        , 0.4625    , 1.        , 0.8205    , 0.0025    ,\n",
       "       0.        , 0.        , 0.1615    , 1.        , 1.        ,\n",
       "       0.8765    , 0.6705    , 1.        , 0.8535    , 0.02900001,\n",
       "       0.        , 0.        , 0.77250004, 1.        , 0.5135    ,\n",
       "       0.        , 0.        , 0.        , 0.0485    , 0.896     ,\n",
       "       1.        , 1.        , 1.        , 1.        , 0.768     ,\n",
       "       0.592     , 0.906     , 0.9185    , 0.98899996, 0.93200004,\n",
       "       0.185     , 0.        , 0.        , 0.        , 0.        ,\n",
       "       0.274     , 0.91400003, 1.        , 1.        , 1.        ,\n",
       "       1.        , 1.        , 1.        , 1.        , 1.        ,\n",
       "       0.5675    , 0.        , 0.        , 0.        , 0.        ,\n",
       "       0.        , 0.        , 0.25849998, 0.9065    , 1.        ,\n",
       "       1.        , 1.        , 1.        , 1.        , 1.        ,\n",
       "       0.6095    , 0.02849999, 0.        , 0.        , 0.        ,\n",
       "       0.        , 0.        , 0.        , 0.        , 0.01300001,\n",
       "       0.2855    , 0.652     , 0.9115    , 1.        , 0.741     ,\n",
       "       0.263     , 0.0045    , 0.        , 0.        , 0.        ,\n",
       "       0.        ], dtype=float32)"
      ]
     },
     "execution_count": 6,
     "metadata": {},
     "output_type": "execute_result"
    }
   ],
   "source": [
    "X_tr[0]"
   ]
  },
  {
   "cell_type": "code",
   "execution_count": 7,
   "metadata": {},
   "outputs": [
    {
     "data": {
      "text/plain": [
       "(7291,)"
      ]
     },
     "execution_count": 7,
     "metadata": {},
     "output_type": "execute_result"
    }
   ],
   "source": [
    "y_tr.shape"
   ]
  },
  {
   "cell_type": "code",
   "execution_count": 8,
   "metadata": {},
   "outputs": [
    {
     "data": {
      "text/plain": [
       "(2007, 256)"
      ]
     },
     "execution_count": 8,
     "metadata": {},
     "output_type": "execute_result"
    }
   ],
   "source": [
    "X_te.shape"
   ]
  },
  {
   "cell_type": "code",
   "execution_count": 9,
   "metadata": {},
   "outputs": [
    {
     "data": {
      "text/plain": [
       "<matplotlib.image.AxesImage at 0x7fe828913c40>"
      ]
     },
     "execution_count": 9,
     "metadata": {},
     "output_type": "execute_result"
    },
    {
     "data": {
      "image/png": "[encoded data removed]",
      "text/plain": [
       "<Figure size 432x288 with 1 Axes>"
      ]
     },
     "metadata": {
      "needs_background": "light"
     },
     "output_type": "display_data"
    }
   ],
   "source": [
    "plt.imshow(X_tr[500].reshape([16, 16]), 'gray')"
   ]
  },
  {
   "cell_type": "code",
   "execution_count": 10,
   "metadata": {},
   "outputs": [
    {
     "data": {
      "text/plain": [
       "0"
      ]
     },
     "execution_count": 10,
     "metadata": {},
     "output_type": "execute_result"
    }
   ],
   "source": [
    "y_tr[500]"
   ]
  },
  {
   "cell_type": "code",
   "execution_count": 11,
   "metadata": {},
   "outputs": [
    {
     "data": {
      "text/plain": [
       "KNeighborsClassifier(n_neighbors=1)"
      ]
     },
     "execution_count": 11,
     "metadata": {},
     "output_type": "execute_result"
    }
   ],
   "source": [
    "knn_clf = KNeighborsClassifier(n_neighbors = 1)\n",
    "knn_clf.fit(X=X_tr, y=y_tr)"
   ]
  },
  {
   "cell_type": "code",
   "execution_count": 12,
   "metadata": {},
   "outputs": [],
   "source": [
    "predictions = knn_clf.predict(X=X_te)"
   ]
  },
  {
   "cell_type": "code",
   "execution_count": 13,
   "metadata": {},
   "outputs": [
    {
     "data": {
      "text/plain": [
       "0.9436970602889886"
      ]
     },
     "execution_count": 13,
     "metadata": {},
     "output_type": "execute_result"
    }
   ],
   "source": [
    "accuracy_score(y_true=y_te, y_pred=predictions)"
   ]
  },
  {
   "cell_type": "code",
   "execution_count": 14,
   "metadata": {},
   "outputs": [
    {
     "data": {
      "text/plain": [
       "<matplotlib.image.AxesImage at 0x7fe819160520>"
      ]
     },
     "execution_count": 14,
     "metadata": {},
     "output_type": "execute_result"
    },
    {
     "data": {
      "image/png": "[encoded data removed]",
      "text/plain": [
       "<Figure size 432x288 with 1 Axes>"
      ]
     },
     "metadata": {
      "needs_background": "light"
     },
     "output_type": "display_data"
    }
   ],
   "source": [
    "plt.imshow(X_te[0].reshape([16, 16]), 'gray')"
   ]
  },
  {
   "cell_type": "code",
   "execution_count": 15,
   "metadata": {},
   "outputs": [
    {
     "data": {
      "text/plain": [
       "9"
      ]
     },
     "execution_count": 15,
     "metadata": {},
     "output_type": "execute_result"
    }
   ],
   "source": [
    "predictions[0]"
   ]
  },
  {
   "cell_type": "code",
   "execution_count": 16,
   "metadata": {},
   "outputs": [
    {
     "data": {
      "text/plain": [
       "0.9436970602889886"
      ]
     },
     "execution_count": 16,
     "metadata": {},
     "output_type": "execute_result"
    }
   ],
   "source": [
    "accuracy_score(y_true=y_te, y_pred=predictions)"
   ]
  },
  {
   "cell_type": "code",
   "execution_count": 17,
   "metadata": {},
   "outputs": [
    {
     "data": {
      "text/plain": [
       "array([[355,   0,   2,   0,   0,   0,   0,   1,   0,   1],\n",
       "       [  0, 255,   0,   0,   6,   0,   2,   1,   0,   0],\n",
       "       [  6,   1, 183,   2,   1,   0,   0,   2,   3,   0],\n",
       "       [  3,   0,   2, 154,   0,   5,   0,   0,   0,   2],\n",
       "       [  0,   3,   1,   0, 182,   1,   2,   2,   1,   8],\n",
       "       [  2,   1,   2,   4,   0, 145,   2,   0,   3,   1],\n",
       "       [  0,   0,   1,   0,   2,   3, 164,   0,   0,   0],\n",
       "       [  0,   1,   1,   1,   4,   0,   0, 139,   0,   1],\n",
       "       [  5,   0,   1,   6,   1,   1,   0,   1, 148,   3],\n",
       "       [  0,   0,   1,   0,   2,   0,   0,   4,   1, 169]])"
      ]
     },
     "execution_count": 17,
     "metadata": {},
     "output_type": "execute_result"
    }
   ],
   "source": [
    "conf_mtrx = confusion_matrix(y_true=y_te, y_pred=predictions)\n",
    "conf_mtrx"
   ]
  },
  {
   "cell_type": "code",
   "execution_count": 18,
   "metadata": {},
   "outputs": [
    {
     "data": {
      "image/png": "[encoded data removed]",
      "text/plain": [
       "<Figure size 720x720 with 25 Axes>"
      ]
     },
     "metadata": {
      "needs_background": "light"
     },
     "output_type": "display_data"
    }
   ],
   "source": [
    "fig = plt.figure(figsize=(10, 10))\n",
    "rows = 5\n",
    "columns = 5\n",
    "startIndex = 0\n",
    "\n",
    "axes=[]\n",
    "for i in range(rows * columns):\n",
    "    fig.add_subplot(rows, columns, i+1)\n",
    "    pred = predictions[i+startIndex]\n",
    "    plt.imshow(X_te[i].reshape([16, 16]), 'gray')\n",
    "    plt.axis('off')\n",
    "    plt.title(\"pred - \" + str(pred))"
   ]
  },
  {
   "cell_type": "code",
   "execution_count": null,
   "metadata": {},
   "outputs": [],
   "source": []
  }
 ],
 "metadata": {
  "kernelspec": {
   "display_name": "Python 3",
   "language": "python",
   "name": "python3"
  },
  "language_info": {
   "codemirror_mode": {
    "name": "ipython",
    "version": 3
   },
   "file_extension": ".py",
   "mimetype": "text/x-python",
   "name": "python",
   "nbconvert_exporter": "python",
   "pygments_lexer": "ipython3",
   "version": "3.8.8"
  }
 },
 "nbformat": 4,
 "nbformat_minor": 4
}
